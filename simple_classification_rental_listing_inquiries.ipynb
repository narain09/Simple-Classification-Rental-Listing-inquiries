{
  "metadata": {
    "kernelspec": {
      "language": "python",
      "display_name": "Python 3",
      "name": "python3"
    },
    "language_info": {
      "pygments_lexer": "ipython3",
      "nbconvert_exporter": "python",
      "version": "3.6.4",
      "file_extension": ".py",
      "codemirror_mode": {
        "name": "ipython",
        "version": 3
      },
      "name": "python",
      "mimetype": "text/x-python"
    },
    "colab": {
      "provenance": []
    }
  },
  "nbformat_minor": 0,
  "nbformat": 4,
  "cells": [
    {
      "cell_type": "markdown",
      "source": [
        "## Simple Classification Rental Listing inquiries"
      ],
      "metadata": {
        "id": "KAxQkP-iNIpQ"
      }
    },
    {
      "cell_type": "markdown",
      "source": [
        "> Prepared By: Narain Manoharan\n",
        "\n",
        "> IIT Madras"
      ],
      "metadata": {
        "id": "UmW2-BZQNRjm"
      }
    },
    {
      "cell_type": "code",
      "source": [
        "``\n",
        "import numpy as np # linear algebra\n",
        "import pandas as pd # data processing, CSV file I/O (e.g. pd.read_csv)\n",
        "\n",
        "import os\n",
        "for dirname, _, filenames in os.walk('/kaggle/input'):\n",
        "    for filename in filenames:\n",
        "        print(os.path.join(dirname, filename))\n"
      ],
      "metadata": {
        "_uuid": "8f2839f25d086af736a60e9eeb907d3b93b6e0e5",
        "_cell_guid": "b1076dfc-b9ad-4769-8c92-a6c4dae69d19",
        "trusted": true,
        "id": "CZMke5vwNBWu"
      },
      "execution_count": null,
      "outputs": []
    },
    {
      "cell_type": "markdown",
      "source": [
        "# Load Data"
      ],
      "metadata": {
        "id": "rtJ3kRczNBWw"
      }
    },
    {
      "cell_type": "code",
      "source": [
        "train = pd.read_json('/kaggle/input/two-sigma-connect-rental-listing-inquiries/train.json.zip')\n",
        "train.head()"
      ],
      "metadata": {
        "_uuid": "d629ff2d2480ee46fbb7e2d37f6b5fab8052498a",
        "_cell_guid": "79c7e3d0-c299-4dcb-8224-4455121ee9b0",
        "trusted": true,
        "id": "aRxsDutqNBWy"
      },
      "execution_count": null,
      "outputs": []
    },
    {
      "cell_type": "code",
      "source": [
        "test = pd.read_json('/kaggle/input/two-sigma-connect-rental-listing-inquiries/test.json.zip')\n",
        "test.head()"
      ],
      "metadata": {
        "trusted": true,
        "id": "oE0VRSsgNBWz"
      },
      "execution_count": null,
      "outputs": []
    },
    {
      "cell_type": "markdown",
      "source": [
        "# Data Exploration"
      ],
      "metadata": {
        "id": "c5FOc2dRNBWz"
      }
    },
    {
      "cell_type": "code",
      "source": [
        "train.shape"
      ],
      "metadata": {
        "trusted": true,
        "id": "894iGAwqNBW0"
      },
      "execution_count": null,
      "outputs": []
    },
    {
      "cell_type": "code",
      "source": [
        "train.columns"
      ],
      "metadata": {
        "trusted": true,
        "id": "AxWUgUbfNBW1"
      },
      "execution_count": null,
      "outputs": []
    },
    {
      "cell_type": "code",
      "source": [
        "train.describe()"
      ],
      "metadata": {
        "trusted": true,
        "id": "uBEgFv5UNBW1"
      },
      "execution_count": null,
      "outputs": []
    },
    {
      "cell_type": "markdown",
      "source": [
        "* Summary of numeric variables"
      ],
      "metadata": {
        "id": "yAHFhLqDNBW1"
      }
    },
    {
      "cell_type": "code",
      "source": [
        "train.dtypes"
      ],
      "metadata": {
        "trusted": true,
        "id": "KBK1xsHxNBW2"
      },
      "execution_count": null,
      "outputs": []
    },
    {
      "cell_type": "markdown",
      "source": [
        "* Types of variables"
      ],
      "metadata": {
        "id": "YhYn-m4wNBW2"
      }
    },
    {
      "cell_type": "code",
      "source": [
        "train['interest_level'].unique()"
      ],
      "metadata": {
        "trusted": true,
        "id": "qi9EZLZMNBW3"
      },
      "execution_count": null,
      "outputs": []
    },
    {
      "cell_type": "markdown",
      "source": [
        "* Target Variable"
      ],
      "metadata": {
        "id": "9coHGojTNBW3"
      }
    },
    {
      "cell_type": "code",
      "source": [
        "train.dtypes"
      ],
      "metadata": {
        "trusted": true,
        "id": "vyytth4RNBW4"
      },
      "execution_count": null,
      "outputs": []
    },
    {
      "cell_type": "code",
      "source": [
        "train.drop(['features','photos'],1).nunique()"
      ],
      "metadata": {
        "trusted": true,
        "id": "y8FoapjpNBW4"
      },
      "execution_count": null,
      "outputs": []
    },
    {
      "cell_type": "markdown",
      "source": [
        "* After dropping list columns('features','photos'), check the number of unique values of each column"
      ],
      "metadata": {
        "id": "PdnFqt4uNBW5"
      }
    },
    {
      "cell_type": "markdown",
      "source": [
        "# Data Visualization"
      ],
      "metadata": {
        "id": "TmkL2MECNBW5"
      }
    },
    {
      "cell_type": "code",
      "source": [
        "import matplotlib.pyplot as plt\n",
        "import seaborn as sns\n",
        "\n",
        "plt.figure(figsize=(10,8))\n",
        "sns.boxplot(train['interest_level'],train['bedrooms'])"
      ],
      "metadata": {
        "trusted": true,
        "id": "zNPgvKHyNBW6"
      },
      "execution_count": null,
      "outputs": []
    },
    {
      "cell_type": "markdown",
      "source": [
        "* There is no difference in this boxplot.\n",
        "* So, should we drop 'bedrooms' column?\n",
        "* If no, then how can we visualize in other way?"
      ],
      "metadata": {
        "id": "AMSXdJCwNBW6"
      }
    },
    {
      "cell_type": "code",
      "source": [
        "train['bedrooms'].nunique()"
      ],
      "metadata": {
        "trusted": true,
        "id": "-v0VzLizNBW6"
      },
      "execution_count": null,
      "outputs": []
    },
    {
      "cell_type": "markdown",
      "source": [
        "* 'bedrooms' is categorical column.\n",
        "* Also, our target variable(interest_level) has categorical attribute."
      ],
      "metadata": {
        "id": "Cgz8uXGNNBW6"
      }
    },
    {
      "cell_type": "code",
      "source": [
        "train['bathrooms'].nunique()"
      ],
      "metadata": {
        "trusted": true,
        "id": "vHC9afWtNBW7"
      },
      "execution_count": null,
      "outputs": []
    },
    {
      "cell_type": "code",
      "source": [
        "figure, (a,b) = plt.subplots(nrows= 2)\n",
        "figure.set_size_inches(10,15)\n",
        "sns.countplot(train['bedrooms'],ax=a)\n",
        "sns.countplot(train['bathrooms'],ax=b)"
      ],
      "metadata": {
        "trusted": true,
        "id": "TjkDPUvbNBW7"
      },
      "execution_count": null,
      "outputs": []
    },
    {
      "cell_type": "markdown",
      "source": [
        "### 'bedrooms', 'bathrooms' (Category - Category Values)"
      ],
      "metadata": {
        "id": "n57tUgHANBW7"
      }
    },
    {
      "cell_type": "code",
      "source": [
        "plt.figure(figsize=(10,8))\n",
        "sns.countplot(train['bedrooms'],hue=train['interest_level'])"
      ],
      "metadata": {
        "trusted": true,
        "id": "8GM4t8cxNBW7"
      },
      "execution_count": null,
      "outputs": []
    },
    {
      "cell_type": "markdown",
      "source": [
        "* bedrooms from 1 -> 2, interest level increases since number of 'low' decreases while number of 'medium' and 'high' increase."
      ],
      "metadata": {
        "id": "GB8sYadNNBW7"
      }
    },
    {
      "cell_type": "code",
      "source": [
        "train.groupby('interest_level')['building_id'].count()\n",
        "# Since 'low' has the most values, it is natural that low has the highest shape\n"
      ],
      "metadata": {
        "trusted": true,
        "id": "kYMOn4OxNBW7"
      },
      "execution_count": null,
      "outputs": []
    },
    {
      "cell_type": "code",
      "source": [
        "plt.figure(figsize=(10,8))\n",
        "sns.countplot(train['bathrooms'],hue=train['interest_level'])"
      ],
      "metadata": {
        "trusted": true,
        "id": "OhWLjUAQNBW7"
      },
      "execution_count": null,
      "outputs": []
    },
    {
      "cell_type": "markdown",
      "source": [
        "### 'created'"
      ],
      "metadata": {
        "id": "wBEcuSLhNBW8"
      }
    },
    {
      "cell_type": "code",
      "source": [
        "train['created'] = train['created'].astype('datetime64')\n",
        "train['day'] = train['created'].dt.day\n",
        "train['month'] = train['created'].dt.month\n",
        "train['year'] = train['created'].dt.year"
      ],
      "metadata": {
        "trusted": true,
        "id": "WIM79xrtNBW8"
      },
      "execution_count": null,
      "outputs": []
    },
    {
      "cell_type": "markdown",
      "source": [
        "* Make 'day', 'month', 'year' column to analysis whether there is meaningful difference between each interest_level values."
      ],
      "metadata": {
        "id": "59RILleONBW8"
      }
    },
    {
      "cell_type": "code",
      "source": [
        "train['month'].unique()"
      ],
      "metadata": {
        "trusted": true,
        "id": "oK_I-ijLNBW8"
      },
      "execution_count": null,
      "outputs": []
    },
    {
      "cell_type": "code",
      "source": [
        "train['year'].unique()"
      ],
      "metadata": {
        "trusted": true,
        "id": "Ikmm1YZlNBW8"
      },
      "execution_count": null,
      "outputs": []
    },
    {
      "cell_type": "markdown",
      "source": [
        "#### day"
      ],
      "metadata": {
        "id": "9y5n01j8NBW8"
      }
    },
    {
      "cell_type": "code",
      "source": [
        "plt.figure(figsize=(20,10))\n",
        "sns.boxplot(train['interest_level'],train['day'])"
      ],
      "metadata": {
        "trusted": true,
        "id": "Rl4JOaXKNBW9"
      },
      "execution_count": null,
      "outputs": []
    },
    {
      "cell_type": "markdown",
      "source": [
        "* Can't find the difference with boxplot."
      ],
      "metadata": {
        "id": "66bV1wHENBW9"
      }
    },
    {
      "cell_type": "code",
      "source": [
        "plt.figure(figsize=(20,10))\n",
        "sns.countplot(train['day'],hue=train['interest_level'])"
      ],
      "metadata": {
        "trusted": true,
        "id": "Y8xygdOxNBW9"
      },
      "execution_count": null,
      "outputs": []
    },
    {
      "cell_type": "markdown",
      "source": [
        "* Does this column help predicting target variable?\n",
        "* day 2->3, 5->6, 20->21.."
      ],
      "metadata": {
        "id": "zIJ6iWGMNBW9"
      }
    },
    {
      "cell_type": "markdown",
      "source": [
        "#### month"
      ],
      "metadata": {
        "id": "drgKITaZNBW9"
      }
    },
    {
      "cell_type": "code",
      "source": [
        "plt.figure(figsize=(10,8))\n",
        "sns.countplot(train['month'],hue=train['interest_level'])"
      ],
      "metadata": {
        "trusted": true,
        "id": "cNWXVJTLNBXH"
      },
      "execution_count": null,
      "outputs": []
    },
    {
      "cell_type": "code",
      "source": [
        "train.groupby('month')['interest_level'].value_counts()"
      ],
      "metadata": {
        "trusted": true,
        "id": "TvcdTvMDNBXI"
      },
      "execution_count": null,
      "outputs": []
    },
    {
      "cell_type": "markdown",
      "source": [
        "# Prediction"
      ],
      "metadata": {
        "id": "8F_r4cnvNBXI"
      }
    },
    {
      "cell_type": "markdown",
      "source": [
        "* Drop features, photos column (just for my convenience)"
      ],
      "metadata": {
        "id": "IwFonkO5NBXI"
      }
    },
    {
      "cell_type": "code",
      "source": [
        "train = pd.read_json('/kaggle/input/two-sigma-connect-rental-listing-inquiries/train.json.zip')\n",
        "alldata = pd.concat([train,test])"
      ],
      "metadata": {
        "trusted": true,
        "id": "RnHihNoiNBXJ"
      },
      "execution_count": null,
      "outputs": []
    },
    {
      "cell_type": "code",
      "source": [
        "alldata.isnull().any()"
      ],
      "metadata": {
        "trusted": true,
        "id": "QJvVdaKFNBXJ"
      },
      "execution_count": null,
      "outputs": []
    },
    {
      "cell_type": "markdown",
      "source": [
        "* Check NA"
      ],
      "metadata": {
        "id": "BvttqwmMNBXJ"
      }
    },
    {
      "cell_type": "code",
      "source": [
        "alldata2 = alldata.drop(['features','interest_level','photos'],axis=1)"
      ],
      "metadata": {
        "trusted": true,
        "id": "qe24pU3DNBXJ"
      },
      "execution_count": null,
      "outputs": []
    },
    {
      "cell_type": "code",
      "source": [
        "from sklearn.preprocessing import LabelEncoder\n",
        "le = LabelEncoder()\n",
        "\n",
        "for i in alldata2.columns[alldata2.dtypes == object] :\n",
        "    alldata2[i] = le.fit_transform(alldata2[i])"
      ],
      "metadata": {
        "trusted": true,
        "id": "dmO13C-KNBXK"
      },
      "execution_count": null,
      "outputs": []
    },
    {
      "cell_type": "code",
      "source": [
        "train2 = alldata2[:len(train)]\n",
        "test2 = alldata2[len(train):]"
      ],
      "metadata": {
        "trusted": true,
        "id": "ClLtRFjFNBXK"
      },
      "execution_count": null,
      "outputs": []
    },
    {
      "cell_type": "code",
      "source": [
        "from sklearn.ensemble import RandomForestClassifier\n",
        "rf = RandomForestClassifier(random_state=0, n_jobs=-1)\n",
        "rf.fit(train2, train['interest_level'])\n",
        "result = rf.predict_proba(test2)"
      ],
      "metadata": {
        "trusted": true,
        "id": "H_lAk3UONBXK"
      },
      "execution_count": null,
      "outputs": []
    },
    {
      "cell_type": "code",
      "source": [
        "result"
      ],
      "metadata": {
        "trusted": true,
        "id": "Fwmzwx0DNBXK"
      },
      "execution_count": null,
      "outputs": []
    },
    {
      "cell_type": "code",
      "source": [
        "sub = pd.read_csv('/kaggle/input/two-sigma-connect-rental-listing-inquiries/sample_submission.csv.zip')\n",
        "sub.head()"
      ],
      "metadata": {
        "trusted": true,
        "id": "QIrOTV9vNBXK"
      },
      "execution_count": null,
      "outputs": []
    },
    {
      "cell_type": "code",
      "source": [
        "sub['high'] = result[:,0]\n",
        "sub['medium'] = result[:,2]\n",
        "sub['low'] = result[:,1]\n",
        "\n",
        "sub.head()"
      ],
      "metadata": {
        "trusted": true,
        "id": "gODbqpPUNBXL"
      },
      "execution_count": null,
      "outputs": []
    },
    {
      "cell_type": "code",
      "source": [
        "sub.to_csv('rental.csv',index=False)"
      ],
      "metadata": {
        "trusted": true,
        "id": "tzF_QIBzNBXL"
      },
      "execution_count": null,
      "outputs": []
    }
  ]
}